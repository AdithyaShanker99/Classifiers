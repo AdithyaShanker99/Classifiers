{
 "cells": [
  {
   "cell_type": "code",
   "execution_count": 56,
   "metadata": {},
   "outputs": [],
   "source": [
    "import pandas as pd\n",
    "import matplotlib.pyplot as plt\n",
    "from sklearn.model_selection import train_test_split\n",
    "import numpy as np"
   ]
  },
  {
   "cell_type": "code",
   "execution_count": 55,
   "metadata": {},
   "outputs": [],
   "source": [
    "url='https://gist.githubusercontent.com/netj/8836201/raw/6f9306ad21398ea43cba4f7d537619d0e07d5ae3/iris.csv'\n",
    "df = pd.read_csv(url)"
   ]
  },
  {
   "cell_type": "code",
   "execution_count": 54,
   "metadata": {},
   "outputs": [],
   "source": [
    "#convert our data frames into numpyarrays to make them easier to work with\n",
    "features = df.drop('variety', axis=1).to_numpy()\n",
    "labels = df['variety'].to_numpy()\n",
    "#If you want your output to match mine select a random_state of 41\n",
    "#Test size of 0.2 means 20% of our dataset will be used for testing\n",
    "features_train, features_test, labels_train, labels_test = train_test_split(features, labels,\n",
    "test_size=0.2, random_state=41)"
   ]
  },
  {
   "cell_type": "code",
   "execution_count": 53,
   "metadata": {},
   "outputs": [],
   "source": [
    "def find_distance(Train_features, Target_features) :\n",
    "    distance = np.sqrt(np.sum((Train_features - Target_features) ** 2))\n",
    "    return distance"
   ]
  },
  {
   "cell_type": "code",
   "execution_count": 52,
   "metadata": {},
   "outputs": [],
   "source": [
    "def find_k_nearest(features_train,labels_train,target_feature,k) :\n",
    "    distances = [] \n",
    "    for i in range(len(features_train)):\n",
    "        distance = find_distance(features_train[i], target_feature)\n",
    "        distances.append((distance, labels_train[i]))\n",
    "    return sorted(distances)[:k]\n",
    "\n"
   ]
  },
  {
   "cell_type": "code",
   "execution_count": 50,
   "metadata": {},
   "outputs": [],
   "source": [
    "def predict_label(features_train, labels_train, target_feature, k):\n",
    "    # Find the k-nearest neighbors\n",
    "    nearest_neighbors = find_k_nearest(features_train, labels_train, target_feature, k)\n",
    "    # Extract only the labels of these neighbors\n",
    "    neighbor_labels = [label for _, label in nearest_neighbors]\n",
    "    # Determine the most common label among the neighbors\n",
    "    most_common_label = max(set(neighbor_labels), key=neighbor_labels.count)\n",
    "    \n",
    "    return most_common_label"
   ]
  },
  {
   "cell_type": "code",
   "execution_count": 62,
   "metadata": {},
   "outputs": [
    {
     "name": "stdout",
     "output_type": "stream",
     "text": [
      "0.9\n",
      "0.9333333333333333\n",
      "0.9333333333333333\n",
      "0.9666666666666667\n",
      "0.9666666666666667\n",
      "0.9666666666666667\n",
      "0.9666666666666667\n",
      "0.9666666666666667\n",
      "0.9666666666666667\n",
      "0.9666666666666667\n",
      "0.9666666666666667\n",
      "0.9666666666666667\n",
      "0.9666666666666667\n",
      "0.9666666666666667\n",
      "0.9666666666666667\n",
      "0.9666666666666667\n",
      "0.9666666666666667\n",
      "0.9666666666666667\n",
      "0.9666666666666667\n",
      "0.9666666666666667\n",
      "0.9333333333333333\n",
      "0.9666666666666667\n",
      "0.9333333333333333\n",
      "0.9333333333333333\n",
      "0.9\n",
      "0.9\n",
      "0.9\n",
      "0.9\n",
      "0.9\n"
     ]
    },
    {
     "data": {
      "text/plain": [
       "[<matplotlib.lines.Line2D at 0x7ff5a7583070>]"
      ]
     },
     "execution_count": 62,
     "metadata": {},
     "output_type": "execute_result"
    },
    {
     "data": {
      "image/png": "[encoded data removed]",
      "text/plain": [
       "<Figure size 640x480 with 1 Axes>"
      ]
     },
     "metadata": {},
     "output_type": "display_data"
    }
   ],
   "source": [
    "# Initialize a list to store accuracy values for different k's\n",
    "accuracies = []\n",
    "# Loop over k from 1 to 29\n",
    "for k in range(1, 30):\n",
    "    correct = 0  # Initialize a counter for correct predictions\n",
    "    # Loop over all test samples\n",
    "    for i in range(len(features_test)):\n",
    "        # Predict the label for the ith test feature\n",
    "        if predict_label(features_train, labels_train, features_test[i], k) == labels_test[i]:\n",
    "            correct += 1  # Increment correct count if prediction is accurate\n",
    "    # Calculate the accuracy as the ratio of correct predictions to total predictions\n",
    "    accuracy = correct / len(features_test)\n",
    "    print(accuracy)  # Print the accuracy for this k\n",
    "    accuracies.append(accuracy)  # Store the accuracy for this k\n",
    "# Plot the accuracies for each k value\n",
    "plt.plot(range(1, k+1), accuracies)\n",
    "\n",
    "\n"
   ]
  }
 ],
 "metadata": {
  "kernelspec": {
   "display_name": "base",
   "language": "python",
   "name": "python3"
  },
  "language_info": {
   "codemirror_mode": {
    "name": "ipython",
    "version": 3
   },
   "file_extension": ".py",
   "mimetype": "text/x-python",
   "name": "python",
   "nbconvert_exporter": "python",
   "pygments_lexer": "ipython3",
   "version": "3.10.9"
  }
 },
 "nbformat": 4,
 "nbformat_minor": 2
}
